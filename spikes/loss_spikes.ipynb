{
 "cells": [
  {
   "cell_type": "code",
   "execution_count": 15,
   "metadata": {},
   "outputs": [],
   "source": [
    "from torch import nn\n",
    "import torch\n",
    "\n",
    "from torch.nn import functional as ff"
   ]
  },
  {
   "cell_type": "code",
   "execution_count": 8,
   "metadata": {},
   "outputs": [
    {
     "name": "stdout",
     "output_type": "stream",
     "text": [
      "tensor([[ 1.1697,  1.3291, -0.9306, -1.1790,  1.5958],\n",
      "        [-1.3248,  1.0758, -1.7669, -1.5140,  0.6727],\n",
      "        [-0.6522, -0.9713,  0.2155,  2.1093,  0.8517]], requires_grad=True)\n",
      "tensor([2, 2, 4])\n",
      "tensor(2.8798, grad_fn=<NllLossBackward>)\n"
     ]
    }
   ],
   "source": [
    "loss = nn.CrossEntropyLoss()\n",
    "input = torch.randn((3, 5), requires_grad=True)\n",
    "target = torch.empty(3, dtype=torch.long).random_(5)\n",
    "output = loss(input, target)\n",
    "print(input)\n",
    "print(target)\n",
    "print(output)"
   ]
  },
  {
   "cell_type": "code",
   "execution_count": 24,
   "metadata": {},
   "outputs": [
    {
     "data": {
      "text/plain": [
       "tensor([[[-0.3040, -0.3641, -0.4490, -0.1982, -0.2875],\n",
       "         [-0.4909, -0.2620, -0.5104, -0.4663, -0.3869],\n",
       "         [-0.3263, -0.3395, -0.2699, -0.2584, -0.3948],\n",
       "         [-0.3768, -0.2952, -0.3208, -0.4913, -0.5319],\n",
       "         [-0.3129, -0.2824, -0.2622, -0.3194, -0.3036]],\n",
       "\n",
       "        [[-0.2907, -0.3649, -0.3824, -0.4044, -0.2347],\n",
       "         [-0.2743, -0.3892, -0.3323, -0.3030, -0.2838],\n",
       "         [-0.2525, -0.2815, -0.3275, -0.2894, -0.3100],\n",
       "         [-0.3690, -0.2300, -0.2597, -0.4275, -0.2786],\n",
       "         [-0.3133, -0.3279, -0.2537, -0.4160, -0.2633]],\n",
       "\n",
       "        [[-0.2798, -0.3412, -0.2755, -0.4009, -0.4727],\n",
       "         [-0.2650, -0.4413, -0.3598, -0.3886, -0.3740],\n",
       "         [-0.2510, -0.4740, -0.2704, -0.2659, -0.3620],\n",
       "         [-0.3207, -0.2804, -0.5051, -0.3747, -0.3036],\n",
       "         [-0.3126, -0.3552, -0.4062, -0.4940, -0.2779]],\n",
       "\n",
       "        [[-0.3258, -0.2760, -0.3978, -0.3426, -0.3073],\n",
       "         [-0.4276, -0.3313, -0.2331, -0.3047, -0.2542],\n",
       "         [-0.3409, -0.2510, -0.3120, -0.2646, -0.2164],\n",
       "         [-0.2796, -0.2811, -0.2788, -0.2882, -0.3351],\n",
       "         [-0.2887, -0.4396, -0.3402, -0.3580, -0.3447]]])"
      ]
     },
     "execution_count": 24,
     "metadata": {},
     "output_type": "execute_result"
    }
   ],
   "source": [
    "\n",
    "batchN = 4\n",
    "\n",
    "lossFn = nn.NLLLoss(reduction=\"none\")\n",
    "feature = torch.rand((batchN, 3, 5, 5), dtype=torch.float32)\n",
    "dist = ff.softmax(feature, dim=1)\n",
    "\n",
    "target = torch.ones((batchN, 5, 5), dtype=torch.long)\n",
    "\n",
    "loss = lossFn(dist, target)\n",
    "loss"
   ]
  },
  {
   "cell_type": "code",
   "execution_count": 23,
   "metadata": {},
   "outputs": [
    {
     "name": "stdout",
     "output_type": "stream",
     "text": [
      "tensor([[4., 0., 0., 0., 0.],\n",
      "        [4., 0., 0., 0., 0.],\n",
      "        [4., 0., 0., 0., 0.],\n",
      "        [4., 0., 0., 0., 0.]])\n",
      "tensor([[0.9317, 0.0171, 0.0171, 0.0171, 0.0171],\n",
      "        [0.9317, 0.0171, 0.0171, 0.0171, 0.0171],\n",
      "        [0.9317, 0.0171, 0.0171, 0.0171, 0.0171],\n",
      "        [0.9317, 0.0171, 0.0171, 0.0171, 0.0171]])\n"
     ]
    },
    {
     "data": {
      "text/plain": [
       "tensor([-0.9317, -0.9317, -0.9317, -0.9317])"
      ]
     },
     "execution_count": 23,
     "metadata": {},
     "output_type": "execute_result"
    }
   ],
   "source": [
    "\n",
    "batchN = 4\n",
    "\n",
    "lossFn = nn.NLLLoss(reduction=\"none\")\n",
    "\n",
    "feature = torch.zeros((batchN, 5), dtype=torch.float32)\n",
    "feature[:, 0] = torch.ones(batchN) * 4\n",
    "\n",
    "print(feature)\n",
    "\n",
    "dist = ff.softmax(feature, dim=1)\n",
    "\n",
    "print(dist)\n",
    "\n",
    "target = torch.zeros((batchN), dtype=torch.long)\n",
    "\n",
    "loss = lossFn(dist, target)\n",
    "loss"
   ]
  },
  {
   "cell_type": "code",
   "execution_count": null,
   "metadata": {},
   "outputs": [],
   "source": []
  }
 ],
 "metadata": {
  "jupytext": {
   "cell_metadata_filter": "-all",
   "main_language": "python",
   "notebook_metadata_filter": "-all",
   "text_representation": {
    "extension": ".py",
    "format_name": "light"
   }
  },
  "kernelspec": {
   "display_name": "Python 3",
   "language": "python",
   "name": "python3"
  },
  "language_info": {
   "codemirror_mode": {
    "name": "ipython",
    "version": 3
   },
   "file_extension": ".py",
   "mimetype": "text/x-python",
   "name": "python",
   "nbconvert_exporter": "python",
   "pygments_lexer": "ipython3",
   "version": "3.7.3"
  }
 },
 "nbformat": 4,
 "nbformat_minor": 2
}
